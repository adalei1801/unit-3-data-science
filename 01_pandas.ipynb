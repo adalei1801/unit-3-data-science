{
 "cells": [
  {
   "cell_type": "markdown",
   "metadata": {},
   "source": [
    "## Lab 03.01 - Introduction to Pandas and Data Operations\n",
    "In this lab, you'll learn how to use the pandas library to analyze real-world sales data. By the end of this lab, you'll be comfortable with the fundamental operations in pandas."
   ]
  },
  {
   "cell_type": "markdown",
   "metadata": {
    "vscode": {
     "languageId": "plaintext"
    }
   },
   "source": [
    "### Part 0 - Intro to Pandas\n",
    "Before we dive into using pandas, let's understand what it is and why it's important in data science.\n",
    "\n",
    "To answer the questions, edit the markdown cell and put your answer below the question. \n",
    "\n",
    "**Make sure to save the markdown cell, by pressing the ✓ (check) icon in the top right after answering the questions**\n",
    "\n",
    "Research and critically think about the following questions:"
   ]
  },
  {
   "attachments": {},
   "cell_type": "markdown",
   "metadata": {},
   "source": [
    "##### Question 00\n",
    "What is Pandas, and what are its primary functions in data visualization for data science?\n",
    "- **Answer:**\n",
    "Pandas is a Python library made to work with data. It allows users to create data structures and perform mathematical operations on numeric data.\n",
    "\n",
    "##### Question 01\n",
    "What does \"data manipulation\" mean in the context of pandas and data science field?\n",
    "- **Answer:**\n",
    "Data manipulation means the ways data can be altered or worked with in the context of the data science field and Pandas. \n",
    "##### Question 02\n",
    "What kind of files can pandas read? List at least 3:\n",
    "- **Answer:**\n",
    "Pandas can read multiple different file types such as csv, json, sql, etc."
   ]
  },
  {
   "cell_type": "markdown",
   "metadata": {},
   "source": [
    "#### 0.0 - Hands-On Exploration\n",
    "Let's start by importing pandas and exploring its basic functionality. Type these commands and write down what you observe:\n",
    "\n",
    "First, let's install the matplotlib library, in your terminal run the following command:\n",
    "\n",
    "```bash\n",
    "pip3 install pandas\n",
    "```\n",
    "\n",
    "Once installed, let's start by importing pandas and exploring its basic functionality. "
   ]
  },
  {
   "cell_type": "code",
   "execution_count": 2,
   "metadata": {},
   "outputs": [],
   "source": [
    "import pandas as pd"
   ]
  },
  {
   "cell_type": "markdown",
   "metadata": {},
   "source": [
    "Now lets run create a list, and see what happens when we use it with pandas."
   ]
  },
  {
   "cell_type": "code",
   "execution_count": null,
   "metadata": {},
   "outputs": [
    {
     "name": "stdout",
     "output_type": "stream",
     "text": [
      "0    1\n",
      "1    2\n",
      "2    3\n",
      "3    4\n",
      "4    5\n",
      "dtype: int64\n"
     ]
    }
   ],
   "source": [
    "# Create a simple list of numbers\n",
    "numbers = [1, 2, 3, 4, 5]\n",
    "\n",
    "# Convert it to a pandas Series\n",
    "series = pd.Series(numbers)\n",
    "\n",
    "# Print the result\n",
    "print(series)"
   ]
  },
  {
   "attachments": {},
   "cell_type": "markdown",
   "metadata": {},
   "source": [
    "##### Question 03\n",
    "What did you notice about the output format?\n",
    "- **Answer:**\n",
    "Pandas prints data in columns as the index numbers are in their own column and the list items are in a second column.\n",
    "\n",
    "##### Question 04\n",
    "How is this different from a regular Python list? What are the numbers on the left side?\n",
    "- **Answer:**\n",
    "Regular Python lists are printed as they are written in the code. Lists are printed with the brackets (or other container) the list has and commas that separate the items."
   ]
  },
  {
   "cell_type": "markdown",
   "metadata": {},
   "source": [
    "### Part 1 - Reading and Exploring Data\n",
    "\n",
    "#### 01.00 - Loading Data\n",
    "Let's start by loading our sales data that you downloaded alongside this lab. In pandas, we can read various file formats, but CSV (Comma-Separated Values) is one of the most common."
   ]
  },
  {
   "cell_type": "code",
   "execution_count": 3,
   "metadata": {},
   "outputs": [],
   "source": [
    "sales_df = pd.read_csv('sales_data.csv')"
   ]
  },
  {
   "cell_type": "markdown",
   "metadata": {},
   "source": [
    "When using pandas to load data, in ingests it into what is known as a \"dataframe\", this allows us to do advanced manipulation."
   ]
  },
  {
   "cell_type": "markdown",
   "metadata": {},
   "source": [
    "#### 01.01 - Viewing Data Samples\n",
    "Let's explore the fundamental methods for understanding our data structure and content. We'll look at each method individually and understand what it tells us about our data."
   ]
  },
  {
   "cell_type": "code",
   "execution_count": null,
   "metadata": {},
   "outputs": [
    {
     "name": "stdout",
     "output_type": "stream",
     "text": [
      "         Date   Product         Category    Price  Units    Total  Discount  \\\n",
      "0  2023-01-01  Notebook  Office Supplies    18.33      2    35.56      0.03   \n",
      "1  2023-01-01    Laptop      Electronics  1943.35      4  7773.40      0.00   \n",
      "2  2023-01-01    Tablet      Electronics   436.05      2   872.10      0.00   \n",
      "\n",
      "  Region     Sales_Rep Payment_Method Customer_Segment  \n",
      "0  South  Sarah Wilson     Debit Card   Small Business  \n",
      "1  North    John Smith     Debit Card   Small Business  \n",
      "2   East   David Brown  Bank Transfer       Government  \n"
     ]
    }
   ],
   "source": [
    "print(sales_df.head(3))"
   ]
  },
  {
   "cell_type": "code",
   "execution_count": 5,
   "metadata": {},
   "outputs": [
    {
     "name": "stdout",
     "output_type": "stream",
     "text": [
      "            Date       Product         Category    Price  Units    Total  \\\n",
      "3766  2023-12-31    Smartwatch      Electronics  1730.72      2  3461.44   \n",
      "3767  2023-12-31          Desk        Furniture   462.57      1   462.57   \n",
      "3768  2023-12-31        Laptop      Electronics   560.79      2  1121.58   \n",
      "3769  2023-12-31  Office Chair        Furniture   116.04      2   232.08   \n",
      "3770  2023-12-31      Notebook  Office Supplies    18.15      4    72.60   \n",
      "\n",
      "      Discount Region        Sales_Rep Payment_Method Customer_Segment  \n",
      "3766       0.0  South  Michael Johnson     Debit Card       Individual  \n",
      "3767       0.0  North       John Smith     Debit Card       Government  \n",
      "3768       0.0   East      David Brown     Debit Card   Small Business  \n",
      "3769       0.0  North       Emma Davis    Credit Card        Corporate  \n",
      "3770       0.0  North       Emma Davis         PayPal       Individual  \n"
     ]
    }
   ],
   "source": [
    "print(sales_df.tail())"
   ]
  },
  {
   "attachments": {},
   "cell_type": "markdown",
   "metadata": {},
   "source": [
    "##### Question 04\n",
    "What is the difference between the `tail()` and `head()` commands? What would be use of either command be?\n",
    "- **Answer:**\n",
    "The `tail()` function prints the last five data entries and the `head()` function prints the first five entries.\n",
    "\n",
    "##### Question 05\n",
    "What happens when you put a number in the `head()` function? What changed?\n",
    "- **Answer:**\n",
    "Putting a number in the `head()` function prints that amount of data entries."
   ]
  },
  {
   "cell_type": "markdown",
   "metadata": {},
   "source": [
    "#### 01.02 - Understanding DataFrame Structure\n",
    "Let's examine the basic properties of our DataFrame:"
   ]
  },
  {
   "cell_type": "code",
   "execution_count": 7,
   "metadata": {},
   "outputs": [
    {
     "name": "stdout",
     "output_type": "stream",
     "text": [
      "Index(['Date', 'Product', 'Category', 'Price', 'Units', 'Total', 'Discount',\n",
      "       'Region', 'Sales_Rep', 'Payment_Method', 'Customer_Segment'],\n",
      "      dtype='object')\n"
     ]
    }
   ],
   "source": [
    "print(sales_df.columns)"
   ]
  },
  {
   "cell_type": "code",
   "execution_count": 8,
   "metadata": {},
   "outputs": [
    {
     "name": "stdout",
     "output_type": "stream",
     "text": [
      "Date                 object\n",
      "Product              object\n",
      "Category             object\n",
      "Price               float64\n",
      "Units                 int64\n",
      "Total               float64\n",
      "Discount            float64\n",
      "Region               object\n",
      "Sales_Rep            object\n",
      "Payment_Method       object\n",
      "Customer_Segment     object\n",
      "dtype: object\n"
     ]
    }
   ],
   "source": [
    "print(sales_df.dtypes)"
   ]
  },
  {
   "attachments": {},
   "cell_type": "markdown",
   "metadata": {},
   "source": [
    "##### Question 06\n",
    "Compare and contrast the outputs of the `columns` and `dtypes` properties. What is similar what is different?\n",
    "- **Answer:**\n",
    "The columns property prints the labels of the dataset in Python list format. The dtypes property prints the labels and what type of data falls under it in columns.\n",
    "##### Question 07\n",
    "What data type is the 'Date' column? Is this what you expected? \n",
    "- **Answer:**\n",
    "I am surprised that the data type is considered an object and not an integer but it makes sense as if it were an integer the dates would be wrong as Python would subract the numbers.\n",
    "##### Question 08\n",
    "Why might pandas choose different data types for different columns?\n",
    "- **Answer:**\n",
    "Pandas might choose different data types between columns to maintain order and ensure the data is formatted properly. "
   ]
  },
  {
   "cell_type": "markdown",
   "metadata": {},
   "source": [
    "#### 01.03 - Data Information Summary\n",
    "The `info()` method provides a concise summary of our DataFrame:"
   ]
  },
  {
   "cell_type": "code",
   "execution_count": 9,
   "metadata": {},
   "outputs": [
    {
     "name": "stdout",
     "output_type": "stream",
     "text": [
      "<class 'pandas.core.frame.DataFrame'>\n",
      "RangeIndex: 3771 entries, 0 to 3770\n",
      "Data columns (total 11 columns):\n",
      " #   Column            Non-Null Count  Dtype  \n",
      "---  ------            --------------  -----  \n",
      " 0   Date              3771 non-null   object \n",
      " 1   Product           3771 non-null   object \n",
      " 2   Category          3771 non-null   object \n",
      " 3   Price             3771 non-null   float64\n",
      " 4   Units             3771 non-null   int64  \n",
      " 5   Total             3771 non-null   float64\n",
      " 6   Discount          3771 non-null   float64\n",
      " 7   Region            3771 non-null   object \n",
      " 8   Sales_Rep         3693 non-null   object \n",
      " 9   Payment_Method    3739 non-null   object \n",
      " 10  Customer_Segment  3771 non-null   object \n",
      "dtypes: float64(3), int64(1), object(7)\n",
      "memory usage: 324.2+ KB\n",
      "None\n"
     ]
    }
   ],
   "source": [
    "print(sales_df.info())"
   ]
  },
  {
   "attachments": {},
   "cell_type": "markdown",
   "metadata": {},
   "source": [
    "##### Question 09\n",
    "What information does `info()` tell us, how could this information be useful?\n",
    "- **Answer:**\n",
    "The `info()` function displays the column names, index numbers, data types, non-null count, list of all data types in data, and how much memory is being used.\n",
    "\n",
    "##### Question 10\n",
    "How much memory is our DataFrame using? \n",
    "- **Answer:**\n",
    "Our DataFrame is using 324.2+ KB of data.\n",
    "\n",
    "##### Question 11\n",
    "What does \"null\" mean? What impact could having \"null\" values in a dataset?\n",
    "- **Answer:**\n",
    "\"Null\" means nothing and having a nothing value can throw off data manipulations as there will be nothing to work with."
   ]
  },
  {
   "cell_type": "markdown",
   "metadata": {},
   "source": [
    "#### 01.04 - Numerical Summaries\n",
    "The `describe()` method provides statistical summaries for numerical columns:"
   ]
  },
  {
   "cell_type": "code",
   "execution_count": 10,
   "metadata": {},
   "outputs": [
    {
     "name": "stdout",
     "output_type": "stream",
     "text": [
      "             Price        Units         Total     Discount\n",
      "count  3771.000000  3771.000000   3771.000000  3771.000000\n",
      "mean    397.093911     2.985150   1159.701854     0.021594\n",
      "std     514.524434     1.410003   1750.424109     0.041496\n",
      "min       4.810000     1.000000      4.990000     0.000000\n",
      "25%      40.165000     2.000000    110.730000     0.000000\n",
      "50%     134.860000     3.000000    372.870000     0.000000\n",
      "75%     516.490000     4.000000   1472.525000     0.020000\n",
      "max    2073.680000     5.000000  10151.100000     0.150000\n"
     ]
    }
   ],
   "source": [
    "print(sales_df.describe())"
   ]
  },
  {
   "attachments": {},
   "cell_type": "markdown",
   "metadata": {},
   "source": [
    "##### Question 12\n",
    "What statistics does the `describe()` function give us?\n",
    "- **Answer:**\n",
    "The `describe()` function gives us the amount of entries in the table, mean, standard deviation, minimum and maximum values, and the quartiles.\n",
    "##### Question 13\n",
    "Which columns did the `describe()` function perform statistics on? Why? (Hint: why didnt we see 'Product' in the output?)\n",
    "- **Answer:**\n",
    "The columns that were given were floats and integers as they are numeric values in the dataset and the mathematical functions needed to get these values can be performed."
   ]
  },
  {
   "cell_type": "code",
   "execution_count": 11,
   "metadata": {},
   "outputs": [
    {
     "name": "stdout",
     "output_type": "stream",
     "text": [
      "             Price        Units\n",
      "count  3771.000000  3771.000000\n",
      "mean    397.093911     2.985150\n",
      "std     514.524434     1.410003\n",
      "min       4.810000     1.000000\n",
      "25%      40.165000     2.000000\n",
      "50%     134.860000     3.000000\n",
      "75%     516.490000     4.000000\n",
      "max    2073.680000     5.000000\n"
     ]
    }
   ],
   "source": [
    "print(sales_df[['Price', 'Units']].describe())"
   ]
  },
  {
   "attachments": {},
   "cell_type": "markdown",
   "metadata": {},
   "source": [
    "##### Question 14\n",
    "What is different in the codeblock above compared to the previous one. How did this affect the output?\n",
    "- **Answer:**\n",
    "This code block specifies the columns they want described and as a result the function gives them the numeric information of those columns."
   ]
  },
  {
   "cell_type": "code",
   "execution_count": 12,
   "metadata": {},
   "outputs": [
    {
     "name": "stdout",
     "output_type": "stream",
     "text": [
      "['Office Supplies' 'Electronics' 'Accessories' 'Furniture']\n"
     ]
    }
   ],
   "source": [
    "print(sales_df['Category'].unique())"
   ]
  },
  {
   "attachments": {},
   "cell_type": "markdown",
   "metadata": {},
   "source": [
    "##### Question 15\n",
    "How many unique product categories are in our data set?\n",
    "- **Answer:**\n",
    "There are four unique product categories in our data set."
   ]
  },
  {
   "cell_type": "code",
   "execution_count": 13,
   "metadata": {},
   "outputs": [
    {
     "name": "stdout",
     "output_type": "stream",
     "text": [
      "Output 1:\n",
      "Category\n",
      "Office Supplies    953\n",
      "Accessories        942\n",
      "Furniture          941\n",
      "Electronics        935\n",
      "Name: count, dtype: int64\n",
      "\n",
      "\n",
      "Output 2:\n",
      "Category\n",
      "Office Supplies    0.252718\n",
      "Accessories        0.249801\n",
      "Furniture          0.249536\n",
      "Electronics        0.247945\n",
      "Name: proportion, dtype: float64\n"
     ]
    }
   ],
   "source": [
    "print(\"Output 1:\")\n",
    "print(sales_df['Category'].value_counts())\n",
    "\n",
    "print('')\n",
    "print('')\n",
    "\n",
    "print(\"Output 2:\")\n",
    "print(sales_df['Category'].value_counts(normalize=True))"
   ]
  },
  {
   "attachments": {},
   "cell_type": "markdown",
   "metadata": {},
   "source": [
    "##### Question 16\n",
    "What is the difference between the two outputs?\n",
    "- **Answer:**\n",
    "The first output gives use the product categories, the amount of times it shows up in the data set, and its data type. The second output also prints the product categories but displays their proportions.\n",
    "\n",
    "##### Question 17\n",
    "What is our most common product category?\n",
    "- **Answer:**\n",
    "The most common product category is office supplies as it occurs 953 times in the dataset."
   ]
  },
  {
   "attachments": {},
   "cell_type": "markdown",
   "metadata": {},
   "source": [
    "##### Excercise 00\n",
    "Using what you've learned, create a code cell direclty below this one to answer these questions:\n",
    "\n",
    "- What is the date range of our sales data? (Hint: try `min()` and `max()` functions)\n",
    "- How many unique products do we sell?\n",
    "- ~~What is the average price by category?~~\n",
    "- What is our most common payment method?"
   ]
  },
  {
   "cell_type": "code",
   "execution_count": 15,
   "metadata": {},
   "outputs": [
    {
     "name": "stdout",
     "output_type": "stream",
     "text": [
      "Payment_Method\n",
      "Bank Transfer    976\n",
      "Debit Card       932\n",
      "Credit Card      923\n",
      "PayPal           908\n",
      "Name: count, dtype: int64\n"
     ]
    }
   ],
   "source": [
    "# What is our most common payment method? - Bank Transfer is in the dataset 976 times.\n",
    "\n",
    "print(sales_df['Payment_Method'].value_counts())"
   ]
  },
  {
   "cell_type": "markdown",
   "metadata": {},
   "source": [
    "### Part 2 - Data Selection and Filtering\n",
    "\n",
    "#### 02.01 - Column Selection\n",
    "There are multiple ways to select columns in pandas. Let's explore them:"
   ]
  },
  {
   "cell_type": "code",
   "execution_count": 16,
   "metadata": {},
   "outputs": [],
   "source": [
    "# Select single column\n",
    "prices = sales_df['Price']\n",
    "\n",
    "# Select multiple columns\n",
    "product_info = sales_df[['Product', 'Price', 'Units']]"
   ]
  },
  {
   "attachments": {},
   "cell_type": "markdown",
   "metadata": {},
   "source": [
    "##### Question 17\n",
    "Compare and contrast how we select multiple columns vs a single column.\n",
    "- **Answer:**\n",
    "The single and multiple column selection methods both assign the output to a variable and use `sales_df[]` to select columns. The difference is that for single column selection, the value is the desired column in quotes, but for multiple selections the values are formatted like a list within the `sales_df[]` function."
   ]
  },
  {
   "cell_type": "markdown",
   "metadata": {},
   "source": [
    "##### Excercise 01\n",
    "Using what you've learned, create a code cell direclty below this one to select the 'Region' and 'Category' columns and store them in a variable called 'location_data'."
   ]
  },
  {
   "cell_type": "markdown",
   "metadata": {},
   "source": [
    "#### 02.01 - Filtering Data\n",
    "Let's learn how to filter our data based on conditions:"
   ]
  },
  {
   "cell_type": "code",
   "execution_count": 17,
   "metadata": {},
   "outputs": [
    {
     "name": "stdout",
     "output_type": "stream",
     "text": [
      "Expensive items:\n",
      "            Date     Product     Category    Price  Units    Total  Discount  \\\n",
      "1     2023-01-01      Laptop  Electronics  1943.35      4  7773.40      0.00   \n",
      "9     2023-01-01  Smartwatch  Electronics   893.71      3  2681.13      0.00   \n",
      "10    2023-01-01      Laptop  Electronics   802.12      3  2093.53      0.13   \n",
      "13    2023-01-02  Smartphone  Electronics   687.98      3  2063.94      0.00   \n",
      "16    2023-01-02  Smartwatch  Electronics   507.91      4  2031.64      0.00   \n",
      "...          ...         ...          ...      ...    ...      ...       ...   \n",
      "3760  2023-12-31  Smartphone  Electronics  1766.20      4  7064.80      0.00   \n",
      "3763  2023-12-31      Tablet  Electronics  1424.20      5  7121.00      0.00   \n",
      "3764  2023-12-31  Smartphone  Electronics   857.34      5  4286.70      0.00   \n",
      "3766  2023-12-31  Smartwatch  Electronics  1730.72      2  3461.44      0.00   \n",
      "3768  2023-12-31      Laptop  Electronics   560.79      2  1121.58      0.00   \n",
      "\n",
      "     Region          Sales_Rep Payment_Method Customer_Segment  \n",
      "1     North         John Smith     Debit Card   Small Business  \n",
      "9      West  Jennifer Martinez         PayPal       Government  \n",
      "10     West  Jennifer Martinez     Debit Card       Individual  \n",
      "13     West      Robert Taylor  Bank Transfer   Small Business  \n",
      "16     East        David Brown  Bank Transfer        Corporate  \n",
      "...     ...                ...            ...              ...  \n",
      "3760   West  Jennifer Martinez         PayPal   Small Business  \n",
      "3763  North         John Smith         PayPal        Corporate  \n",
      "3764   West      Robert Taylor  Bank Transfer        Corporate  \n",
      "3766  South    Michael Johnson     Debit Card       Individual  \n",
      "3768   East        David Brown     Debit Card   Small Business  \n",
      "\n",
      "[989 rows x 11 columns]\n",
      "\n",
      "North region sales:\n",
      "            Date       Product         Category    Price  Units    Total  \\\n",
      "1     2023-01-01        Laptop      Electronics  1943.35      4  7773.40   \n",
      "8     2023-01-01          Lamp        Furniture   353.09      5  1518.29   \n",
      "17    2023-01-02          Lamp        Furniture   390.69      3  1160.35   \n",
      "24    2023-01-03     Bookshelf        Furniture   504.67      1   504.67   \n",
      "27    2023-01-03       Pen Set  Office Supplies    30.36      3    91.08   \n",
      "...          ...           ...              ...      ...    ...      ...   \n",
      "3759  2023-12-31     USB Drive      Accessories    86.88      1    77.32   \n",
      "3763  2023-12-31        Tablet      Electronics  1424.20      5  7121.00   \n",
      "3767  2023-12-31          Desk        Furniture   462.57      1   462.57   \n",
      "3769  2023-12-31  Office Chair        Furniture   116.04      2   232.08   \n",
      "3770  2023-12-31      Notebook  Office Supplies    18.15      4    72.60   \n",
      "\n",
      "      Discount Region   Sales_Rep Payment_Method Customer_Segment  \n",
      "1         0.00  North  John Smith     Debit Card   Small Business  \n",
      "8         0.14  North  Emma Davis     Debit Card       Individual  \n",
      "17        0.01  North  Emma Davis    Credit Card       Individual  \n",
      "24        0.00  North  John Smith         PayPal   Small Business  \n",
      "27        0.00  North  John Smith     Debit Card   Small Business  \n",
      "...        ...    ...         ...            ...              ...  \n",
      "3759      0.11  North  Emma Davis         PayPal       Individual  \n",
      "3763      0.00  North  John Smith         PayPal        Corporate  \n",
      "3767      0.00  North  John Smith     Debit Card       Government  \n",
      "3769      0.00  North  Emma Davis    Credit Card        Corporate  \n",
      "3770      0.00  North  Emma Davis         PayPal       Individual  \n",
      "\n",
      "[985 rows x 11 columns]\n"
     ]
    }
   ],
   "source": [
    "expensive_items = sales_df[sales_df['Price'] > 500]\n",
    "\n",
    "north_sales = sales_df[sales_df['Region'] == 'North']\n",
    "\n",
    "print(\"Expensive items:\")\n",
    "print(expensive_items)\n",
    "print(\"\\nNorth region sales:\")\n",
    "print(north_sales)"
   ]
  },
  {
   "attachments": {},
   "cell_type": "markdown",
   "metadata": {},
   "source": [
    "##### Question 18\n",
    "What is `sales_df['Price'] > 500` accomplishing in our code? How might we use this in data science workflows?\n",
    "- **Answer:**\n",
    "`sales_df['Price'] > 500` only gives us the data entries whose prices are above 500. This is useful in data science as it allows us to filter out data entries and focus or work with the ones we want.\n",
    "\n",
    "##### Question 19\n",
    "What logic operator would we use to combine multiple conditonals when filtering columns?\n",
    "- **Answer:**\n",
    "We can use the `and`/`or` logic operators to combine multiple conditionals when filtering through data."
   ]
  },
  {
   "cell_type": "markdown",
   "metadata": {},
   "source": [
    "##### Excercise 02\n",
    "Using what you've learned, create a code cell direclty below this one to create the following filters:\n",
    "- The number of units sold was greater than 5\n",
    "- The product category is 'Electronics'"
   ]
  },
  {
   "cell_type": "code",
   "execution_count": 36,
   "metadata": {},
   "outputs": [
    {
     "name": "stdout",
     "output_type": "stream",
     "text": [
      "            Date     Product     Category    Price  Units    Total  Discount  \\\n",
      "1     2023-01-01      Laptop  Electronics  1943.35      4  7773.40      0.00   \n",
      "2     2023-01-01      Tablet  Electronics   436.05      2   872.10      0.00   \n",
      "9     2023-01-01  Smartwatch  Electronics   893.71      3  2681.13      0.00   \n",
      "10    2023-01-01      Laptop  Electronics   802.12      3  2093.53      0.13   \n",
      "13    2023-01-02  Smartphone  Electronics   687.98      3  2063.94      0.00   \n",
      "...          ...         ...          ...      ...    ...      ...       ...   \n",
      "3760  2023-12-31  Smartphone  Electronics  1766.20      4  7064.80      0.00   \n",
      "3763  2023-12-31      Tablet  Electronics  1424.20      5  7121.00      0.00   \n",
      "3764  2023-12-31  Smartphone  Electronics   857.34      5  4286.70      0.00   \n",
      "3766  2023-12-31  Smartwatch  Electronics  1730.72      2  3461.44      0.00   \n",
      "3768  2023-12-31      Laptop  Electronics   560.79      2  1121.58      0.00   \n",
      "\n",
      "     Region          Sales_Rep Payment_Method Customer_Segment  \n",
      "1     North         John Smith     Debit Card   Small Business  \n",
      "2      East        David Brown  Bank Transfer       Government  \n",
      "9      West  Jennifer Martinez         PayPal       Government  \n",
      "10     West  Jennifer Martinez     Debit Card       Individual  \n",
      "13     West      Robert Taylor  Bank Transfer   Small Business  \n",
      "...     ...                ...            ...              ...  \n",
      "3760   West  Jennifer Martinez         PayPal   Small Business  \n",
      "3763  North         John Smith         PayPal        Corporate  \n",
      "3764   West      Robert Taylor  Bank Transfer        Corporate  \n",
      "3766  South    Michael Johnson     Debit Card       Individual  \n",
      "3768   East        David Brown     Debit Card   Small Business  \n",
      "\n",
      "[935 rows x 11 columns]\n"
     ]
    }
   ],
   "source": [
    "electron = sales_df[sales_df['Category'] == 'Electronics']\n",
    "units = [sales_df['Units'] > 5]\n",
    "print(electron)\n"
   ]
  },
  {
   "attachments": {},
   "cell_type": "markdown",
   "metadata": {},
   "source": [
    "#### Part 3 - Final Summary\n",
    "Use your experience completing this lab, and the code block below to answer the following summary questions\n",
    "\n",
    "##### Question 20\n",
    "In your own words, explain what pandas is and why it's useful for data analysis:\n",
    "- **Answer:**\n",
    "Pandas is a Python library that allows users to manipulate data sets to perform analysis.\n",
    "\n",
    "##### Question 21\n",
    "How many unique products are in the dataset?\n",
    "- **Answer:**\n",
    "There are 20 unique items in this dataset.\n",
    "\n",
    "##### Question 22\n",
    "What was the most popular product category in the `North` region? \n",
    "- **Answer:**\n",
    "The most popular product category in the North region is Accessories."
   ]
  },
  {
   "cell_type": "code",
   "execution_count": 5,
   "metadata": {},
   "outputs": [
    {
     "name": "stdout",
     "output_type": "stream",
     "text": [
      "20\n",
      " \n",
      "Category\n",
      "Accessories        266\n",
      "Furniture          245\n",
      "Office Supplies    243\n",
      "Electronics        231\n",
      "Name: count, dtype: int64\n"
     ]
    }
   ],
   "source": [
    "print(len(sales_df['Product'].unique()))\n",
    "\n",
    "print(\" \")\n",
    "north = sales_df[sales_df['Region'] == 'North']\n",
    "print(north[\"Category\"].value_counts())\n",
    "\n"
   ]
  },
  {
   "cell_type": "markdown",
   "metadata": {},
   "source": [
    "# Part 4 - Groupby\n",
    "\n",
    "Once you have completed all the questions and exercises, use the groupby method twice on your data frame. Then, use the resources below to learn advanced techniques with groupby. \n",
    "\n",
    "Then use the below resources to turn those grouped data frames into plots"
   ]
  },
  {
   "cell_type": "markdown",
   "metadata": {},
   "source": [
    "### First Groupby"
   ]
  },
  {
   "cell_type": "code",
   "execution_count": 20,
   "metadata": {},
   "outputs": [
    {
     "data": {
      "text/html": [
       "<div>\n",
       "<style scoped>\n",
       "    .dataframe tbody tr th:only-of-type {\n",
       "        vertical-align: middle;\n",
       "    }\n",
       "\n",
       "    .dataframe tbody tr th {\n",
       "        vertical-align: top;\n",
       "    }\n",
       "\n",
       "    .dataframe thead th {\n",
       "        text-align: right;\n",
       "    }\n",
       "</style>\n",
       "<table border=\"1\" class=\"dataframe\">\n",
       "  <thead>\n",
       "    <tr style=\"text-align: right;\">\n",
       "      <th></th>\n",
       "      <th>Date</th>\n",
       "      <th>Product</th>\n",
       "      <th>Category</th>\n",
       "      <th>Price</th>\n",
       "      <th>Units</th>\n",
       "      <th>Total</th>\n",
       "      <th>Region</th>\n",
       "      <th>Sales_Rep</th>\n",
       "      <th>Payment_Method</th>\n",
       "      <th>Customer_Segment</th>\n",
       "    </tr>\n",
       "    <tr>\n",
       "      <th>Discount</th>\n",
       "      <th></th>\n",
       "      <th></th>\n",
       "      <th></th>\n",
       "      <th></th>\n",
       "      <th></th>\n",
       "      <th></th>\n",
       "      <th></th>\n",
       "      <th></th>\n",
       "      <th></th>\n",
       "      <th></th>\n",
       "    </tr>\n",
       "  </thead>\n",
       "  <tbody>\n",
       "    <tr>\n",
       "      <th>0.00</th>\n",
       "      <td>2023-01-01</td>\n",
       "      <td>Laptop</td>\n",
       "      <td>Electronics</td>\n",
       "      <td>1943.35</td>\n",
       "      <td>4</td>\n",
       "      <td>7773.40</td>\n",
       "      <td>North</td>\n",
       "      <td>John Smith</td>\n",
       "      <td>Debit Card</td>\n",
       "      <td>Small Business</td>\n",
       "    </tr>\n",
       "    <tr>\n",
       "      <th>0.01</th>\n",
       "      <td>2023-01-02</td>\n",
       "      <td>Lamp</td>\n",
       "      <td>Furniture</td>\n",
       "      <td>390.69</td>\n",
       "      <td>3</td>\n",
       "      <td>1160.35</td>\n",
       "      <td>North</td>\n",
       "      <td>Emma Davis</td>\n",
       "      <td>Credit Card</td>\n",
       "      <td>Individual</td>\n",
       "    </tr>\n",
       "    <tr>\n",
       "      <th>0.02</th>\n",
       "      <td>2023-01-06</td>\n",
       "      <td>Laptop Bag</td>\n",
       "      <td>Accessories</td>\n",
       "      <td>123.24</td>\n",
       "      <td>3</td>\n",
       "      <td>362.33</td>\n",
       "      <td>North</td>\n",
       "      <td>John Smith</td>\n",
       "      <td>Credit Card</td>\n",
       "      <td>Small Business</td>\n",
       "    </tr>\n",
       "    <tr>\n",
       "      <th>0.03</th>\n",
       "      <td>2023-01-01</td>\n",
       "      <td>Notebook</td>\n",
       "      <td>Office Supplies</td>\n",
       "      <td>18.33</td>\n",
       "      <td>2</td>\n",
       "      <td>35.56</td>\n",
       "      <td>South</td>\n",
       "      <td>Sarah Wilson</td>\n",
       "      <td>Debit Card</td>\n",
       "      <td>Small Business</td>\n",
       "    </tr>\n",
       "    <tr>\n",
       "      <th>0.04</th>\n",
       "      <td>2023-01-03</td>\n",
       "      <td>Pen Set</td>\n",
       "      <td>Office Supplies</td>\n",
       "      <td>9.33</td>\n",
       "      <td>2</td>\n",
       "      <td>17.91</td>\n",
       "      <td>East</td>\n",
       "      <td>Lisa Anderson</td>\n",
       "      <td>PayPal</td>\n",
       "      <td>Individual</td>\n",
       "    </tr>\n",
       "    <tr>\n",
       "      <th>0.05</th>\n",
       "      <td>2023-01-09</td>\n",
       "      <td>Notebook</td>\n",
       "      <td>Office Supplies</td>\n",
       "      <td>5.76</td>\n",
       "      <td>2</td>\n",
       "      <td>10.94</td>\n",
       "      <td>West</td>\n",
       "      <td>Robert Taylor</td>\n",
       "      <td>PayPal</td>\n",
       "      <td>Individual</td>\n",
       "    </tr>\n",
       "    <tr>\n",
       "      <th>0.06</th>\n",
       "      <td>2023-01-10</td>\n",
       "      <td>Stapler</td>\n",
       "      <td>Office Supplies</td>\n",
       "      <td>22.53</td>\n",
       "      <td>4</td>\n",
       "      <td>84.71</td>\n",
       "      <td>West</td>\n",
       "      <td>Jennifer Martinez</td>\n",
       "      <td>PayPal</td>\n",
       "      <td>Individual</td>\n",
       "    </tr>\n",
       "    <tr>\n",
       "      <th>0.07</th>\n",
       "      <td>2023-01-04</td>\n",
       "      <td>Desk Organizer</td>\n",
       "      <td>Office Supplies</td>\n",
       "      <td>28.25</td>\n",
       "      <td>4</td>\n",
       "      <td>105.09</td>\n",
       "      <td>East</td>\n",
       "      <td>Lisa Anderson</td>\n",
       "      <td>Bank Transfer</td>\n",
       "      <td>Government</td>\n",
       "    </tr>\n",
       "    <tr>\n",
       "      <th>0.08</th>\n",
       "      <td>2023-01-07</td>\n",
       "      <td>Laptop</td>\n",
       "      <td>Electronics</td>\n",
       "      <td>1577.93</td>\n",
       "      <td>1</td>\n",
       "      <td>1451.70</td>\n",
       "      <td>South</td>\n",
       "      <td>Michael Johnson</td>\n",
       "      <td>Bank Transfer</td>\n",
       "      <td>Individual</td>\n",
       "    </tr>\n",
       "    <tr>\n",
       "      <th>0.09</th>\n",
       "      <td>2023-01-02</td>\n",
       "      <td>Keyboard</td>\n",
       "      <td>Accessories</td>\n",
       "      <td>49.33</td>\n",
       "      <td>2</td>\n",
       "      <td>89.78</td>\n",
       "      <td>South</td>\n",
       "      <td>Sarah Wilson</td>\n",
       "      <td>Bank Transfer</td>\n",
       "      <td>Government</td>\n",
       "    </tr>\n",
       "    <tr>\n",
       "      <th>0.10</th>\n",
       "      <td>2023-01-06</td>\n",
       "      <td>Smartwatch</td>\n",
       "      <td>Electronics</td>\n",
       "      <td>774.96</td>\n",
       "      <td>4</td>\n",
       "      <td>2789.86</td>\n",
       "      <td>North</td>\n",
       "      <td>Emma Davis</td>\n",
       "      <td>Debit Card</td>\n",
       "      <td>Individual</td>\n",
       "    </tr>\n",
       "    <tr>\n",
       "      <th>0.11</th>\n",
       "      <td>2023-01-06</td>\n",
       "      <td>Office Chair</td>\n",
       "      <td>Furniture</td>\n",
       "      <td>448.24</td>\n",
       "      <td>4</td>\n",
       "      <td>1595.73</td>\n",
       "      <td>North</td>\n",
       "      <td>Emma Davis</td>\n",
       "      <td>Credit Card</td>\n",
       "      <td>Government</td>\n",
       "    </tr>\n",
       "    <tr>\n",
       "      <th>0.12</th>\n",
       "      <td>2023-01-04</td>\n",
       "      <td>Pen Set</td>\n",
       "      <td>Office Supplies</td>\n",
       "      <td>39.04</td>\n",
       "      <td>3</td>\n",
       "      <td>103.07</td>\n",
       "      <td>North</td>\n",
       "      <td>John Smith</td>\n",
       "      <td>Credit Card</td>\n",
       "      <td>Government</td>\n",
       "    </tr>\n",
       "    <tr>\n",
       "      <th>0.13</th>\n",
       "      <td>2023-01-01</td>\n",
       "      <td>Pen Set</td>\n",
       "      <td>Office Supplies</td>\n",
       "      <td>26.14</td>\n",
       "      <td>4</td>\n",
       "      <td>90.97</td>\n",
       "      <td>West</td>\n",
       "      <td>Jennifer Martinez</td>\n",
       "      <td>Bank Transfer</td>\n",
       "      <td>Corporate</td>\n",
       "    </tr>\n",
       "    <tr>\n",
       "      <th>0.14</th>\n",
       "      <td>2023-01-01</td>\n",
       "      <td>Lamp</td>\n",
       "      <td>Furniture</td>\n",
       "      <td>353.09</td>\n",
       "      <td>5</td>\n",
       "      <td>1518.29</td>\n",
       "      <td>North</td>\n",
       "      <td>Emma Davis</td>\n",
       "      <td>Debit Card</td>\n",
       "      <td>Individual</td>\n",
       "    </tr>\n",
       "    <tr>\n",
       "      <th>0.15</th>\n",
       "      <td>2023-01-02</td>\n",
       "      <td>Mouse</td>\n",
       "      <td>Accessories</td>\n",
       "      <td>59.36</td>\n",
       "      <td>3</td>\n",
       "      <td>151.37</td>\n",
       "      <td>West</td>\n",
       "      <td>Robert Taylor</td>\n",
       "      <td>Credit Card</td>\n",
       "      <td>Individual</td>\n",
       "    </tr>\n",
       "  </tbody>\n",
       "</table>\n",
       "</div>"
      ],
      "text/plain": [
       "                Date         Product         Category    Price  Units  \\\n",
       "Discount                                                                \n",
       "0.00      2023-01-01          Laptop      Electronics  1943.35      4   \n",
       "0.01      2023-01-02            Lamp        Furniture   390.69      3   \n",
       "0.02      2023-01-06      Laptop Bag      Accessories   123.24      3   \n",
       "0.03      2023-01-01        Notebook  Office Supplies    18.33      2   \n",
       "0.04      2023-01-03         Pen Set  Office Supplies     9.33      2   \n",
       "0.05      2023-01-09        Notebook  Office Supplies     5.76      2   \n",
       "0.06      2023-01-10         Stapler  Office Supplies    22.53      4   \n",
       "0.07      2023-01-04  Desk Organizer  Office Supplies    28.25      4   \n",
       "0.08      2023-01-07          Laptop      Electronics  1577.93      1   \n",
       "0.09      2023-01-02        Keyboard      Accessories    49.33      2   \n",
       "0.10      2023-01-06      Smartwatch      Electronics   774.96      4   \n",
       "0.11      2023-01-06    Office Chair        Furniture   448.24      4   \n",
       "0.12      2023-01-04         Pen Set  Office Supplies    39.04      3   \n",
       "0.13      2023-01-01         Pen Set  Office Supplies    26.14      4   \n",
       "0.14      2023-01-01            Lamp        Furniture   353.09      5   \n",
       "0.15      2023-01-02           Mouse      Accessories    59.36      3   \n",
       "\n",
       "            Total Region          Sales_Rep Payment_Method Customer_Segment  \n",
       "Discount                                                                     \n",
       "0.00      7773.40  North         John Smith     Debit Card   Small Business  \n",
       "0.01      1160.35  North         Emma Davis    Credit Card       Individual  \n",
       "0.02       362.33  North         John Smith    Credit Card   Small Business  \n",
       "0.03        35.56  South       Sarah Wilson     Debit Card   Small Business  \n",
       "0.04        17.91   East      Lisa Anderson         PayPal       Individual  \n",
       "0.05        10.94   West      Robert Taylor         PayPal       Individual  \n",
       "0.06        84.71   West  Jennifer Martinez         PayPal       Individual  \n",
       "0.07       105.09   East      Lisa Anderson  Bank Transfer       Government  \n",
       "0.08      1451.70  South    Michael Johnson  Bank Transfer       Individual  \n",
       "0.09        89.78  South       Sarah Wilson  Bank Transfer       Government  \n",
       "0.10      2789.86  North         Emma Davis     Debit Card       Individual  \n",
       "0.11      1595.73  North         Emma Davis    Credit Card       Government  \n",
       "0.12       103.07  North         John Smith    Credit Card       Government  \n",
       "0.13        90.97   West  Jennifer Martinez  Bank Transfer        Corporate  \n",
       "0.14      1518.29  North         Emma Davis     Debit Card       Individual  \n",
       "0.15       151.37   West      Robert Taylor    Credit Card       Individual  "
      ]
     },
     "execution_count": 20,
     "metadata": {},
     "output_type": "execute_result"
    }
   ],
   "source": [
    "discount = sales_df.groupby(\"Discount\")\n",
    "discount.first()"
   ]
  },
  {
   "cell_type": "markdown",
   "metadata": {},
   "source": [
    "### First Groupby Plot"
   ]
  },
  {
   "cell_type": "code",
   "execution_count": 58,
   "metadata": {},
   "outputs": [
    {
     "data": {
      "image/png": "[encoded data removed]",
      "text/plain": [
       "<Figure size 640x480 with 1 Axes>"
      ]
     },
     "metadata": {},
     "output_type": "display_data"
    }
   ],
   "source": [
    "import matplotlib.pyplot as plt\n",
    "\n",
    "sales_df[\"Discount\"].plot(kind='hist')\n",
    "plt.show()\n"
   ]
  },
  {
   "cell_type": "markdown",
   "metadata": {},
   "source": [
    "### Second Groupby"
   ]
  },
  {
   "cell_type": "code",
   "execution_count": 59,
   "metadata": {},
   "outputs": [
    {
     "data": {
      "text/html": [
       "<div>\n",
       "<style scoped>\n",
       "    .dataframe tbody tr th:only-of-type {\n",
       "        vertical-align: middle;\n",
       "    }\n",
       "\n",
       "    .dataframe tbody tr th {\n",
       "        vertical-align: top;\n",
       "    }\n",
       "\n",
       "    .dataframe thead th {\n",
       "        text-align: right;\n",
       "    }\n",
       "</style>\n",
       "<table border=\"1\" class=\"dataframe\">\n",
       "  <thead>\n",
       "    <tr style=\"text-align: right;\">\n",
       "      <th></th>\n",
       "      <th>Date</th>\n",
       "      <th>Product</th>\n",
       "      <th>Category</th>\n",
       "      <th>Price</th>\n",
       "      <th>Total</th>\n",
       "      <th>Discount</th>\n",
       "      <th>Region</th>\n",
       "      <th>Sales_Rep</th>\n",
       "      <th>Payment_Method</th>\n",
       "      <th>Customer_Segment</th>\n",
       "    </tr>\n",
       "    <tr>\n",
       "      <th>Units</th>\n",
       "      <th></th>\n",
       "      <th></th>\n",
       "      <th></th>\n",
       "      <th></th>\n",
       "      <th></th>\n",
       "      <th></th>\n",
       "      <th></th>\n",
       "      <th></th>\n",
       "      <th></th>\n",
       "      <th></th>\n",
       "    </tr>\n",
       "  </thead>\n",
       "  <tbody>\n",
       "    <tr>\n",
       "      <th>1</th>\n",
       "      <td>2023-01-02</td>\n",
       "      <td>Notebook</td>\n",
       "      <td>Office Supplies</td>\n",
       "      <td>31.67</td>\n",
       "      <td>31.67</td>\n",
       "      <td>0.00</td>\n",
       "      <td>South</td>\n",
       "      <td>Michael Johnson</td>\n",
       "      <td>Debit Card</td>\n",
       "      <td>Small Business</td>\n",
       "    </tr>\n",
       "    <tr>\n",
       "      <th>2</th>\n",
       "      <td>2023-01-01</td>\n",
       "      <td>Notebook</td>\n",
       "      <td>Office Supplies</td>\n",
       "      <td>18.33</td>\n",
       "      <td>35.56</td>\n",
       "      <td>0.03</td>\n",
       "      <td>South</td>\n",
       "      <td>Sarah Wilson</td>\n",
       "      <td>Debit Card</td>\n",
       "      <td>Small Business</td>\n",
       "    </tr>\n",
       "    <tr>\n",
       "      <th>3</th>\n",
       "      <td>2023-01-01</td>\n",
       "      <td>USB Drive</td>\n",
       "      <td>Accessories</td>\n",
       "      <td>116.48</td>\n",
       "      <td>349.44</td>\n",
       "      <td>0.00</td>\n",
       "      <td>East</td>\n",
       "      <td>Lisa Anderson</td>\n",
       "      <td>PayPal</td>\n",
       "      <td>Individual</td>\n",
       "    </tr>\n",
       "    <tr>\n",
       "      <th>4</th>\n",
       "      <td>2023-01-01</td>\n",
       "      <td>Laptop</td>\n",
       "      <td>Electronics</td>\n",
       "      <td>1943.35</td>\n",
       "      <td>7773.40</td>\n",
       "      <td>0.00</td>\n",
       "      <td>North</td>\n",
       "      <td>John Smith</td>\n",
       "      <td>Debit Card</td>\n",
       "      <td>Small Business</td>\n",
       "    </tr>\n",
       "    <tr>\n",
       "      <th>5</th>\n",
       "      <td>2023-01-01</td>\n",
       "      <td>Lamp</td>\n",
       "      <td>Furniture</td>\n",
       "      <td>353.09</td>\n",
       "      <td>1518.29</td>\n",
       "      <td>0.14</td>\n",
       "      <td>North</td>\n",
       "      <td>Emma Davis</td>\n",
       "      <td>Debit Card</td>\n",
       "      <td>Individual</td>\n",
       "    </tr>\n",
       "  </tbody>\n",
       "</table>\n",
       "</div>"
      ],
      "text/plain": [
       "             Date    Product         Category    Price    Total  Discount  \\\n",
       "Units                                                                       \n",
       "1      2023-01-02   Notebook  Office Supplies    31.67    31.67      0.00   \n",
       "2      2023-01-01   Notebook  Office Supplies    18.33    35.56      0.03   \n",
       "3      2023-01-01  USB Drive      Accessories   116.48   349.44      0.00   \n",
       "4      2023-01-01     Laptop      Electronics  1943.35  7773.40      0.00   \n",
       "5      2023-01-01       Lamp        Furniture   353.09  1518.29      0.14   \n",
       "\n",
       "      Region        Sales_Rep Payment_Method Customer_Segment  \n",
       "Units                                                          \n",
       "1      South  Michael Johnson     Debit Card   Small Business  \n",
       "2      South     Sarah Wilson     Debit Card   Small Business  \n",
       "3       East    Lisa Anderson         PayPal       Individual  \n",
       "4      North       John Smith     Debit Card   Small Business  \n",
       "5      North       Emma Davis     Debit Card       Individual  "
      ]
     },
     "execution_count": 59,
     "metadata": {},
     "output_type": "execute_result"
    }
   ],
   "source": [
    "units = sales_df.groupby(\"Units\")\n",
    "units.first()"
   ]
  },
  {
   "cell_type": "markdown",
   "metadata": {},
   "source": [
    "### Second Groupby Plot"
   ]
  },
  {
   "cell_type": "code",
   "execution_count": 60,
   "metadata": {},
   "outputs": [
    {
     "data": {
      "image/png": "[encoded data removed]",
      "text/plain": [
       "<Figure size 640x480 with 1 Axes>"
      ]
     },
     "metadata": {},
     "output_type": "display_data"
    }
   ],
   "source": [
    "sales_df[\"Units\"].plot(kind='hist')\n",
    "plt.show()"
   ]
  }
 ],
 "metadata": {
  "kernelspec": {
   "display_name": "Python 3",
   "language": "python",
   "name": "python3"
  },
  "language_info": {
   "codemirror_mode": {
    "name": "ipython",
    "version": 3
   },
   "file_extension": ".py",
   "mimetype": "text/x-python",
   "name": "python",
   "nbconvert_exporter": "python",
   "pygments_lexer": "ipython3",
   "version": "3.12.1"
  },
  "vscode": {
   "interpreter": {
    "hash": "b0fa6594d8f4cbf19f97940f81e996739fb7646882a419484c72d19e05852a7e"
   }
  }
 },
 "nbformat": 4,
 "nbformat_minor": 2
}
