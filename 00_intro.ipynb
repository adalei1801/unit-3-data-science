{
 "cells": [
  {
   "cell_type": "markdown",
   "metadata": {},
   "source": [
    "## Lab 03.00 - Intro to Notebooks and Matplotlib"
   ]
  },
  {
   "cell_type": "markdown",
   "metadata": {},
   "source": [
    "### Part 0 - Exploring Jupyter Notebooks\n",
    "\n",
    "Welcome to your first Jupyter Notebook! Before we dive into Matplotlib, let's explore some features of Jupyter Notebooks."
   ]
  },
  {
   "cell_type": "markdown",
   "metadata": {},
   "source": [
    "#### 0.0 - Notebook Structure and Cells\n",
    "A Jupyter Notebook is made up of a series of cells. Each cell can contain either python code or markdown.\n",
    "\n",
    "This structure allows you to mix explanations with executable code, making it an excellent tool for data analysis, teaching, and sharing your work.\n",
    "\n",
    "To **create** a new block hover over an exisiting block, two buttons will appear, you can choose to create a Code or Markdown cell. This will place the block directly beneath the existing"
   ]
  },
  {
   "cell_type": "markdown",
   "metadata": {},
   "source": [
    "#### 0.1 - Markdown Cells\n",
    "\n",
    "This is a markdown cell. You can use it to write formatted text, including:\n",
    "\n",
    "- **Bold text**\n",
    "- *Italic text*\n",
    "- `Code snippets`\n",
    "- Lists (like this one!)"
   ]
  },
  {
   "cell_type": "markdown",
   "metadata": {},
   "source": [
    "##### Exercise 00\n",
    "Double-click on this cell to see its raw markdown content. Then, create a **new** markdown cell *directly* below this one and try formatting your own text. Include a heading, a list, and some bold or italic text.\n",
    "\n",
    "Make sure to save Markdown cells by clicking the Check button that appears when editing a cell in the top-right"
   ]
  },
  {
   "attachments": {},
   "cell_type": "markdown",
   "metadata": {},
   "source": [
    "# Upcoming Books\n",
    "\n",
    "**These are the books I plan to read after \"Rebecca\"**\n",
    "\n",
    "*Note: In no particular order*\n",
    "\n",
    "<ul>\n",
    "<li>Death on the Nile</li>\n",
    "<li>Julius Caesar</li>\n",
    "<li>Hamlet</li>\n",
    "<li>The Scarlet Letter</li>\n",
    "</ul>"
   ]
  },
  {
   "cell_type": "markdown",
   "metadata": {},
   "source": [
    "#### 0.2 - Code Cells\n",
    "The cell below is a code cell. You can write and execute Python code in these cells.\n",
    "\n",
    "You can click on the play button next to the cell to execute it and see its output"
   ]
  },
  {
   "cell_type": "code",
   "execution_count": 1,
   "metadata": {},
   "outputs": [
    {
     "name": "stdout",
     "output_type": "stream",
     "text": [
      "Hello, Jupyter!\n"
     ]
    }
   ],
   "source": [
    "# This is a comment in a code cell\n",
    "\n",
    "print(\"Hello, Jupyter!\")"
   ]
  },
  {
   "cell_type": "markdown",
   "metadata": {},
   "source": [
    "##### Exercise 02\n",
    "Create a new code cell *directly* below this one. Write Python code that takes a name as input, and then prints that input with a greeting for example: `Howdy, Mr. Forlenza`"
   ]
  },
  {
   "cell_type": "code",
   "execution_count": 4,
   "metadata": {},
   "outputs": [
    {
     "name": "stdout",
     "output_type": "stream",
     "text": [
      "Salutations Ashley!\n"
     ]
    }
   ],
   "source": [
    "name = input(\"Whats your name? \")\n",
    "print(f\"Salutations {name}!\")"
   ]
  },
  {
   "cell_type": "markdown",
   "metadata": {},
   "source": [
    "#### 0.3 - Deleting Cells\n",
    "\n",
    "To delete a cell, select it and click the trash icon that appears on the top right of the cell\n",
    "\n",
    "##### Excercise 03\n",
    "Delete the cell **below** this one"
   ]
  },
  {
   "cell_type": "markdown",
   "metadata": {},
   "source": [
    "#### 0.4 - Collapsing and Expanding Code Cells\n",
    "\n",
    "Jupyter Notebooks allow you to collapse code cells, which can be useful when you want to focus on specific parts of your notebook or when you're presenting your work.\n",
    "\n",
    "To collapse a code cell:\n",
    "1. Run the cell first (the output will still be visible when collapsed)\n",
    "2. Click on the small line to left of the cell (or double-click on the left sidebar of the cell)\n",
    "\n",
    "To expand a collapsed cell, simply click on the blue line again."
   ]
  },
  {
   "cell_type": "markdown",
   "metadata": {},
   "source": [
    "##### Exercise 04\n",
    "1. Run the code cell below\n",
    "2. Try collapsing it using the method described above\n",
    "3. Expand it again"
   ]
  },
  {
   "cell_type": "code",
   "execution_count": 5,
   "metadata": {},
   "outputs": [
    {
     "name": "stdout",
     "output_type": "stream",
     "text": [
      "Hello, I'm a collapsible cell!\n",
      "Line 1\n",
      "Line 2\n",
      "Line 3\n",
      "Line 4\n",
      "Line 5\n",
      "Line 6\n",
      "Line 7\n",
      "Line 8\n",
      "Line 9\n",
      "Line 10\n"
     ]
    }
   ],
   "source": [
    "print(\"Hello, I'm a collapsible cell!\")\n",
    "for i in range(10):\n",
    "    print(f\"Line {i+1}\")"
   ]
  },
  {
   "cell_type": "markdown",
   "metadata": {},
   "source": [
    "Collapsing cells can help keep your notebook tidy, especially when you have long code blocks or output that you don't need to see all the time.\n",
    "\n",
    "Now that you're familiar with the basics of Jupyter Notebooks, let's move on to our Matplotlib lab!"
   ]
  },
  {
   "cell_type": "markdown",
   "metadata": {},
   "source": [
    "### Part 1 - Intro with Matplotlib\n",
    "Before we dive into using Matplotlib, let's explore its context and significance in the data visualization landscape. \n",
    "\n",
    "To answer the questions, edit the markdown cell and put your answer below the question. \n",
    "\n",
    "**Make sure to save the markdown cell, by pressing the ✓ (check) icon in the top right after answering the questions**\n",
    "\n",
    "Research and critically think about the following questions:"
   ]
  },
  {
   "attachments": {},
   "cell_type": "markdown",
   "metadata": {},
   "source": [
    "##### Question 00\n",
    "What is Matplotlib, and what are its primary functions in data visualization for data science?\n",
    "- **Answer:**\n",
    "Mathplotlib is a library made to create graphs in Python. Its primary function in data science is to produce different kinds of graphs like histograms, box plots, etc. These functions allow data scientists to display their data in the best way for them.\n",
    "##### Question 01\n",
    "Describe three common types of plots that can be created with Matplotlib\n",
    "- **Answer:**\n",
    "Three common graphs that can be made with Mathplotlib are pie charts, bar graphs, and box and whisker plots. Pie charts are graphs that are mostly used to organize the makeup of data. They are frequently seen representing surveys as they section out different responses and show the makeup of the survey population. Bar graphs or histograms, illustrate the amount of different things in comparison to others. They are also used in surveys as it illustrates the popularity of different responses. Box and Whisker plots are meant to showcase the distribution of data. It shows the outlier and median data points and conveys the range the data covers."
   ]
  },
  {
   "cell_type": "markdown",
   "metadata": {},
   "source": [
    "Now that you've explored Matplotlib's role in data science, let's dive into using it!\n",
    "\n",
    "By the end of this lab, you'll have a solid foundation in creating and customizing various types of plots using Matplotlib. This skill is crucial for data analysis, as visualizing your data can reveal patterns, trends, and insights that might not be apparent from raw numbers alone.\n",
    "\n",
    "Let's get started by importing Matplotlib and creating our first plot!"
   ]
  },
  {
   "cell_type": "markdown",
   "metadata": {},
   "source": [
    "First, let's install the matplotlib library, in your terminal run the following command:\n",
    "\n",
    "```bash\n",
    "pip3 install matplotlib\n",
    "```"
   ]
  },
  {
   "cell_type": "markdown",
   "metadata": {},
   "source": [
    "Now, let's import the necessary library:"
   ]
  },
  {
   "cell_type": "code",
   "execution_count": 10,
   "metadata": {},
   "outputs": [],
   "source": [
    "import matplotlib.pyplot as plt"
   ]
  },
  {
   "cell_type": "markdown",
   "metadata": {},
   "source": [
    "#### 1.0 - Basic Figure and Plotting\n",
    "Before we create our plots, let's explore some basic Matplotlib functions to understand how they work. We'll experiment with different functions and observe what they do."
   ]
  },
  {
   "cell_type": "code",
   "execution_count": 17,
   "metadata": {},
   "outputs": [
    {
     "data": {
      "text/plain": [
       "[<matplotlib.lines.Line2D at 0x10fc98910>]"
      ]
     },
     "execution_count": 17,
     "metadata": {},
     "output_type": "execute_result"
    },
    {
     "data": {
      "image/png": "[encoded data removed]",
      "text/plain": [
       "<Figure size 640x480 with 1 Axes>"
      ]
     },
     "metadata": {},
     "output_type": "display_data"
    }
   ],
   "source": [
    "plt.plot([1, 2, 5], [1, 2, 30])\n",
    "# plt.title(\"My Graph\")"
   ]
  },
  {
   "attachments": {},
   "cell_type": "markdown",
   "metadata": {},
   "source": [
    "##### Question 02\n",
    "What happened when we called `plt.plot()`? Try commenting it out and see what changes.\n",
    "- **Answer:** \n",
    "`plt.plot()` creates the line and changes the axis numbers.\n",
    "##### Question 03\n",
    "What do the two lists in `plt.plot()` refer to? Try changing the numbers and see what changes.\n",
    "- **Answer:** \n",
    "The two lists in `plt.plot()` are the x and y axes and the coordinates for the points on the line.\n",
    "##### Question 04\n",
    "What does the `plt.title()` function do? What happens if you comment it out?\n",
    "- **Answer:** \n",
    "`plt.title()` function gives the graph a title which is displayed above the graph."
   ]
  },
  {
   "cell_type": "markdown",
   "metadata": {},
   "source": [
    "#### 1.2 - Sizing"
   ]
  },
  {
   "cell_type": "code",
   "execution_count": 24,
   "metadata": {},
   "outputs": [
    {
     "data": {
      "text/plain": [
       "Text(0.5, 1.0, 'Figure #2')"
      ]
     },
     "execution_count": 24,
     "metadata": {},
     "output_type": "execute_result"
    },
    {
     "data": {
      "image/png": "[encoded data removed]",
      "text/plain": [
       "<Figure size 300x300 with 1 Axes>"
      ]
     },
     "metadata": {},
     "output_type": "display_data"
    },
    {
     "data": {
      "image/png": "[encoded data removed]",
      "text/plain": [
       "<Figure size 1000x100 with 1 Axes>"
      ]
     },
     "metadata": {},
     "output_type": "display_data"
    }
   ],
   "source": [
    "plt.figure(figsize=(3, 3))\n",
    "plt.plot([1, 2, 3], [1, 2, 3])\n",
    "plt.title('Figure #1')\n",
    "\n",
    "plt.figure(figsize=(10, 1))\n",
    "plt.plot([1, 2, 3], [1, 2, 3])\n",
    "plt.title('Figure #2')"
   ]
  },
  {
   "attachments": {},
   "cell_type": "markdown",
   "metadata": {},
   "source": [
    "##### Question 05\n",
    "What do the numbers in `figsize=(10, 5)` control? Try changing them and observe what happens.\n",
    "- **Answer:** \n",
    "The numbers in figsize control the size of the plot for figure #2. Changing the first number makes the graph narrower or wider and the second number makes the plot taller or shorter\n",
    "\n",
    "##### Question 06\n",
    "In what scenario would changing `figsize` be useful in data visualization?\n",
    "- **Answer:** \n",
    "Changing `figsize`"
   ]
  },
  {
   "cell_type": "markdown",
   "metadata": {},
   "source": [
    "#### 1.3 - Colors and Styles"
   ]
  },
  {
   "cell_type": "code",
   "execution_count": 35,
   "metadata": {},
   "outputs": [
    {
     "data": {
      "image/png": "[encoded data removed]",
      "text/plain": [
       "<Figure size 1000x600 with 1 Axes>"
      ]
     },
     "metadata": {},
     "output_type": "display_data"
    }
   ],
   "source": [
    "plt.figure(figsize=(10, 6))\n",
    "\n",
    "plt.plot([1, 2, 3], [1, 2, 3], color='red')\n",
    "plt.plot([1, 2, 3], [2, 3, 4], color='purple')\n",
    "plt.plot([1, 2, 3], [3, 4, 5], color='green', linestyle='-.')\n",
    "\n",
    "plt.title('Different Line Styles')\n",
    "plt.show()"
   ]
  },
  {
   "attachments": {},
   "cell_type": "markdown",
   "metadata": {},
   "source": [
    "##### Question 07\n",
    "What did we change in our `plt.plot()` functions to modify a line's color? What other types values do you think we use here? (think CSS)\n",
    "- **Answer:** \n",
    "We added the \"color\" argument to the plt.plot() function to change the line's color. The \"linestyle\" argument was also added to change how the line is styled.\n",
    "\n",
    "##### Question 08\n",
    "What did we change in our `plt.plot()` functions to modify the style of a line? What other linestyles are available for us to use in matplotlib? [Documentation](https://matplotlib.org/stable/).\n",
    "- **Answer:** "
   ]
  },
  {
   "cell_type": "markdown",
   "metadata": {},
   "source": [
    "#### 1.4 - Labels & Text"
   ]
  },
  {
   "cell_type": "code",
   "execution_count": null,
   "metadata": {},
   "outputs": [],
   "source": [
    "plt.figure(figsize=(10, 6))\n",
    "plt.plot([1, 2, 3], [1, 2, 3])\n",
    "plt.title('My First Plot', pad=20)\n",
    "plt.xlabel('X values')\n",
    "plt.ylabel('Y values')\n",
    "plt.show()"
   ]
  },
  {
   "cell_type": "markdown",
   "metadata": {},
   "source": [
    "##### Question 09\n",
    "What does the pad=20 in `plt.title()` do? Try different numbers.\n",
    "- **Answer:** \n",
    "\n",
    "##### Question 10\n",
    "What does the functions `xlabel` and `ylabel` do? Try commenting them out.\n",
    "- **Answer:** "
   ]
  },
  {
   "cell_type": "markdown",
   "metadata": {},
   "source": [
    "#### 1.5 - Backgrounds"
   ]
  },
  {
   "cell_type": "code",
   "execution_count": null,
   "metadata": {},
   "outputs": [],
   "source": [
    "plt.figure(figsize=(10, 6), facecolor='lightgray')\n",
    "plt.plot([1, 2, 3, 4], [1, 4, 2, 3])\n",
    "plt.title('Gray Figure Background')\n",
    "plt.show()"
   ]
  },
  {
   "cell_type": "markdown",
   "metadata": {},
   "source": [
    "##### Question 11\n",
    "What changed when we added `facecolor='lightgray'` to `plt.figure`?\n",
    "- **Answer:** \n",
    "\n",
    "##### Question 12\n",
    "What didnt change in this example? Hyposthesize why the whole graph did not change color.\n",
    "- **Answer:** "
   ]
  },
  {
   "cell_type": "markdown",
   "metadata": {},
   "source": [
    "Now let's change the plot area (inner) background"
   ]
  },
  {
   "cell_type": "code",
   "execution_count": null,
   "metadata": {},
   "outputs": [],
   "source": [
    "plt.figure(figsize=(10, 6))\n",
    "ax = plt.gca()  # get current axes\n",
    "ax.set_facecolor('lightyellow')\n",
    "plt.plot([1, 2, 3, 4], [1, 4, 2, 3])\n",
    "plt.title('Yellow Plot Area Background')"
   ]
  },
  {
   "cell_type": "markdown",
   "metadata": {},
   "source": [
    "##### Question 13\n",
    "What's the difference between `plt.figure(facecolor='...')` and `ax.set_facecolor('...')`?\n",
    "- **Answer:** \n",
    "\n",
    "##### Question 14\n",
    "Why have two seperate functions for setting the background? Create a scenario in which that would be useful.\n",
    "- **Answer:** "
   ]
  },
  {
   "cell_type": "markdown",
   "metadata": {},
   "source": [
    "##### Exercise 05\n",
    "Now that we understand how these functions work, it's your turn!\n",
    "\n",
    "Add a codeblock directly below this cell and write code to create your own plot that uses at least all the different Matplotlib functions we explored so far.\n",
    "For each function you use, add a comment explaining what it does.\n",
    "\n",
    "Your graph should be visually pleasing, use online resources for inspiration of color schemes."
   ]
  },
  {
   "cell_type": "markdown",
   "metadata": {},
   "source": [
    "### Part 2 - Matplotlib's Graphs\n",
    "Now that we have the foundations of matplotlib down, let's explore the various types of graphs we can build.\n",
    "\n",
    "To answer the questions, edit the markdown cell and put your answer below the question. \n",
    "\n",
    "**Make sure to save the markdown cell, by pressing the ✓ (check) icon in the top right after answering the questions**"
   ]
  },
  {
   "cell_type": "markdown",
   "metadata": {},
   "source": [
    "#### 2.0 - Line Plot\n",
    "Let's start with a simple line plot."
   ]
  },
  {
   "cell_type": "code",
   "execution_count": null,
   "metadata": {},
   "outputs": [],
   "source": [
    "month = [1, 2, 3, 4, 5, 6]\n",
    "sales = [2, 4, 5, 8, 9, 12]\n",
    "\n",
    "plt.figure(figsize=(10, 6))\n",
    "plt.plot(month, sales)\n",
    "plt.title('Monthly Sales')\n",
    "plt.xlabel('Month')\n",
    "plt.ylabel('Sales (thousands)')\n",
    "plt.grid(True)\n",
    "plt.show()"
   ]
  },
  {
   "cell_type": "markdown",
   "metadata": {},
   "source": [
    "##### Question 15\n",
    "What is the general trend in this data? Is it going up, down, or staying the same?\n",
    "- **Answer:** agsdfashkjdhajkdhkjasda\n",
    "\n",
    "##### Question 16 \n",
    "Looking at the numbers on the y-axis, what was the lowest sales amount? What was the highest?\n",
    "- **Answer:** \n",
    "\n",
    "##### Question 17\n",
    "When would a line plot be useful? Pick one from these scenarios and explain why: <br>\n",
    "a) Showing temperature changes throughout a day <br>\n",
    "b) Comparing the number of students in different grades <br>\n",
    "c) Showing favorite ice cream flavors in your class <br>\n",
    "- **Answer:** "
   ]
  },
  {
   "cell_type": "markdown",
   "metadata": {},
   "source": [
    "#### 2.1 - Scatter Plot\n",
    "Let's look at some data about students' study time and test scores:"
   ]
  },
  {
   "cell_type": "code",
   "execution_count": null,
   "metadata": {},
   "outputs": [],
   "source": [
    "study_hours = [1, 2, 2, 3, 4, 4, 5, 5, 6]\n",
    "test_scores = [65, 70, 75, 80, 85, 85, 90, 95, 100]\n",
    "\n",
    "plt.figure(figsize=(10, 6))\n",
    "plt.scatter(study_hours, test_scores)\n",
    "plt.title('Study Time vs. Test Scores')\n",
    "plt.xlabel('Hours Studied')\n",
    "plt.ylabel('Test Score')\n",
    "plt.show()"
   ]
  },
  {
   "cell_type": "markdown",
   "metadata": {},
   "source": [
    "##### Question 18\n",
    "Compare the above code block to the line plot and examine what is different. Which function was used to create a scatter plot?\n",
    "- **Answer:** \n",
    "\n",
    "##### Question 19\n",
    "What does each dot in this scatter plot represent?\n",
    "- **Answer:** \n",
    "\n",
    "##### Question 20\n",
    "What happens to test scores as study hours increase?\n",
    "- **Answer:** "
   ]
  },
  {
   "cell_type": "markdown",
   "metadata": {},
   "source": [
    "##### Exercise 06\n",
    "Add a code block directly below this one and create your own scatter plot about something that interests you. Some ideas:\n",
    "- Hours of sleep vs. energy level\n",
    "- Time spent practicing vs. points scored in a game\n",
    "- Number of videos watched vs. understanding of a topic\n",
    "Include at least 6 points and proper labels!"
   ]
  },
  {
   "cell_type": "markdown",
   "metadata": {},
   "source": [
    "#### 2.2 - Bar Plot\n",
    "Let's look at the favorite pets in a classroom:"
   ]
  },
  {
   "cell_type": "code",
   "execution_count": null,
   "metadata": {},
   "outputs": [],
   "source": [
    "categories = ['Dogs', 'Cats', 'Fish', 'Birds']\n",
    "values = [12, 8, 3, 2]\n",
    "\n",
    "plt.figure(figsize=(10, 6))\n",
    "plt.bar(categories, values)\n",
    "plt.title('Favorite Pets in Class')\n",
    "plt.xlabel('Pet Type')\n",
    "plt.ylabel('Number of Students')\n",
    "plt.show()"
   ]
  },
  {
   "cell_type": "markdown",
   "metadata": {},
   "source": [
    "##### Question 21\n",
    "Which pet is the most popular? How many students chose it?\n",
    "- **Answer:** \n",
    "\n",
    "##### Question 22\n",
    "How many students in total were surveyed?\n",
    "- **Answer:** "
   ]
  },
  {
   "cell_type": "markdown",
   "metadata": {},
   "source": [
    "##### Exercise 07\n",
    "Add a code block directly below this one and create your own bar plot showing how you spend your time after school. Include:\n",
    "- At least 4 different activities\n",
    "- The number of hours spent on each\n",
    "- Clear labels saying what the plot shows"
   ]
  },
  {
   "cell_type": "markdown",
   "metadata": {},
   "source": [
    "#### 2.3 - Histogram\n",
    "Let's look at the distribution of heights in a class:"
   ]
  },
  {
   "cell_type": "code",
   "execution_count": null,
   "metadata": {},
   "outputs": [],
   "source": [
    "heights = [65, 68, 67, 67, 70, 65, 68, 69, 66, 71, \n",
    "           67, 68, 68, 69, 70, 67, 66, 67, 68, 69]\n",
    "\n",
    "plt.figure(figsize=(10, 6))\n",
    "plt.hist(heights, bins=6, edgecolor='black')\n",
    "plt.title('Student Heights')\n",
    "plt.xlabel('Height (inches)')\n",
    "plt.ylabel('Number of Students')\n",
    "plt.show()"
   ]
  },
  {
   "cell_type": "markdown",
   "metadata": {},
   "source": [
    "##### Question 23\n",
    "What height range appears most common in the class?\n",
    "- **Answer:** \n",
    "\n",
    "##### Question 24\n",
    "About how many students are in the tallest group?\n",
    "- **Answer:** \n",
    "\n",
    "##### Question 25\n",
    "What does the `bins=6` argument do in the `plt.hist()` function? Try changing the value to see what happens\n",
    "- **Answer:** \n",
    "\n",
    "##### Question 26\n",
    "Why would you want different amount of bins in a histogram chart?\n",
    "- **Answer:** "
   ]
  },
  {
   "cell_type": "markdown",
   "metadata": {},
   "source": [
    "### Part 3 - Conclusion\n",
    "Congratulations! You've completed the Introduction to Jupyter Notebooks and the Matplotlib lab. You should now have a good understanding of how to use Jupyter Notebooks and create various types of plots using Matplotlib.\n",
    "\n",
    "For each of the data scenario below, determine what graph would be best used to represent it and explain why"
   ]
  },
  {
   "cell_type": "markdown",
   "metadata": {},
   "source": [
    "##### Question 27\n",
    "Which graph would best suit showing how temperatures change during a week\n",
    "- **Answer:** \n",
    "\n",
    "##### Question 28\n",
    "Which graph would best suit showing the number of students who chose different sports\n",
    "- **Answer:** \n",
    "\n",
    "##### Question 29\n",
    "Which graph would best suit showing the relationship between time spent on social media and grades\n",
    "- **Answer:** "
   ]
  }
 ],
 "metadata": {
  "kernelspec": {
   "display_name": "Python 3",
   "language": "python",
   "name": "python3"
  },
  "language_info": {
   "codemirror_mode": {
    "name": "ipython",
    "version": 3
   },
   "file_extension": ".py",
   "mimetype": "text/x-python",
   "name": "python",
   "nbconvert_exporter": "python",
   "pygments_lexer": "ipython3",
   "version": "3.10.8 (main, Oct 13 2022, 09:48:40) [Clang 14.0.0 (clang-1400.0.29.102)]"
  },
  "vscode": {
   "interpreter": {
    "hash": "b0fa6594d8f4cbf19f97940f81e996739fb7646882a419484c72d19e05852a7e"
   }
  }
 },
 "nbformat": 4,
 "nbformat_minor": 2
}
